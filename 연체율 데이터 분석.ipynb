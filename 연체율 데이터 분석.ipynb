{
 "cells": [
  {
   "cell_type": "code",
   "execution_count": 1,
   "metadata": {},
   "outputs": [],
   "source": [
    "import pandas as pd\n",
    "import numpy as np\n",
    "from sklearn import datasets\n",
    "from sklearn.decomposition import PCA\n",
    "from factor_analyzer import FactorAnalyzer\n",
    "\n",
    "eig = np.linalg.eig"
   ]
  },
  {
   "cell_type": "code",
   "execution_count": 2,
   "metadata": {
    "scrolled": true
   },
   "outputs": [],
   "source": [
    "Data = pd.read_excel('C:/Users/izzac/Desktop/기업별 Sys_risk/데이터_연체율(약관, 신용, 주담대).xlsx', index_col = 0)"
   ]
  },
  {
   "cell_type": "code",
   "execution_count": 11,
   "metadata": {},
   "outputs": [],
   "source": [
    "Data = pd.read_excel('C:/Users/izzac/Desktop/기업별 Sys_risk/데이터_연체율(주담대).xlsx', index_col = 0)"
   ]
  },
  {
   "cell_type": "code",
   "execution_count": 12,
   "metadata": {},
   "outputs": [],
   "source": [
    "# ptc_index_Data\n",
    "Data = Data.pct_change()\n",
    "Data = Data.dropna()"
   ]
  },
  {
   "cell_type": "code",
   "execution_count": 13,
   "metadata": {},
   "outputs": [],
   "source": [
    "# Standardized return\n",
    "z_Data = (Data-Data.mean())/Data.std()"
   ]
  },
  {
   "cell_type": "markdown",
   "metadata": {},
   "source": [
    "## PCA"
   ]
  },
  {
   "cell_type": "code",
   "execution_count": 57,
   "metadata": {},
   "outputs": [],
   "source": [
    "#2년\n",
    "\n",
    "pca = PCA(n_components=8)\n",
    "all_pca = pca.fit_transform(z_Data)\n",
    "pcas_all = pd.DataFrame(pca.explained_variance_ratio_.cumsum()).T\n",
    "for i in range(1, 43):\n",
    "    all_pca = pca.fit_transform(z_Data.iloc[i:8+i])\n",
    "    pcas_all = pcas_all.append(pd.DataFrame(pca.explained_variance_ratio_.cumsum()).T)\n",
    "pcas_all.index = z_Data.index[8:51]\n",
    "pcas_all.to_excel('C:/Users/izzac/Desktop/기업별 Sys_risk/결과/연체율 Cumulative Risk Fraction 2년.xlsx')"
   ]
  },
  {
   "cell_type": "code",
   "execution_count": 14,
   "metadata": {},
   "outputs": [],
   "source": [
    "#3년\n",
    "\n",
    "pca = PCA(n_components=8)\n",
    "all_pca = pca.fit_transform(z_Data)\n",
    "pcas_all = pd.DataFrame(pca.explained_variance_ratio_.cumsum()).T\n",
    "for i in range(1, 38):\n",
    "    all_pca = pca.fit_transform(z_Data.iloc[i:12+i])\n",
    "    pcas_all = pcas_all.append(pd.DataFrame(pca.explained_variance_ratio_.cumsum()).T)\n",
    "pcas_all.index = z_Data.index[12:51]\n",
    "pcas_all.to_excel('C:/Users/izzac/Desktop/기업별 Sys_risk/결과/연체율 Cumulative Risk Fraction 3년.xlsx')"
   ]
  },
  {
   "cell_type": "markdown",
   "metadata": {},
   "source": [
    "## Eigenvalue + Absorption ratio"
   ]
  },
  {
   "cell_type": "code",
   "execution_count": 59,
   "metadata": {},
   "outputs": [],
   "source": [
    "#corr_data = all_Data.iloc[0:12].corr().iloc[[0],:]\n",
    "#for i in range(1,39):\n",
    "#    corr_data = corr_data.append(all_Data.iloc[i:12+i].corr().iloc[[0],:])\n",
    "#corr_data.index = all_Data.index[12:46]\n",
    "#corr_data = corr_data.drop(['전국_매매가격지수'], axis=1)\n",
    "#corr_data"
   ]
  },
  {
   "cell_type": "code",
   "execution_count": 15,
   "metadata": {},
   "outputs": [],
   "source": [
    "# 3년\n",
    "eigen_Data = np.transpose(pd.DataFrame(eig(z_Data.iloc[0:12].corr())[0]))\n",
    "for i in range(1,38):\n",
    "    eigen_Data = eigen_Data.append(np.transpose(pd.DataFrame(eig(z_Data.iloc[0+i:12+i].corr())[0])))\n",
    "eigen_Data.index = z_Data.index[12:51]"
   ]
  },
  {
   "cell_type": "code",
   "execution_count": 16,
   "metadata": {},
   "outputs": [],
   "source": [
    "eigen_Data.to_excel('C:/Users/izzac/Desktop/기업별 Sys_risk/결과/연체율 eigenvalue 3년.xlsx')"
   ]
  },
  {
   "cell_type": "code",
   "execution_count": 61,
   "metadata": {},
   "outputs": [],
   "source": [
    "#2년\n",
    "eigen_Data2 = np.transpose(pd.DataFrame(eig(z_Data.iloc[0:8].corr())[0]))\n",
    "for i in range(1,43):\n",
    "    eigen_Data2 = eigen_Data2.append(np.transpose(pd.DataFrame(eig(z_Data.iloc[0+i:8+i].corr())[0])))\n",
    "eigen_Data2.index = z_Data.index[8:51]"
   ]
  },
  {
   "cell_type": "code",
   "execution_count": 62,
   "metadata": {},
   "outputs": [],
   "source": [
    "eigen_Data2.to_excel('C:/Users/izzac/Desktop/기업별 Sys_risk/결과/연체율 eigenvalue 2년.xlsx')"
   ]
  },
  {
   "cell_type": "code",
   "execution_count": 78,
   "metadata": {},
   "outputs": [],
   "source": [
    "eigen_Data = pd.read_excel('C:/Users/izzac/Desktop/기업별 Sys_risk/결과/연체율 eigenvalue 3년.xlsx', index_col = 0)\n",
    "eigen_Data2 = pd.read_excel('C:/Users/izzac/Desktop/기업별 Sys_risk/결과/연체율 eigenvalue 2년.xlsx', index_col = 0)"
   ]
  },
  {
   "cell_type": "code",
   "execution_count": 17,
   "metadata": {},
   "outputs": [],
   "source": [
    "# 3년\n",
    "ar_Data = eigen_Data/20"
   ]
  },
  {
   "cell_type": "code",
   "execution_count": 18,
   "metadata": {},
   "outputs": [],
   "source": [
    "ar_Data.to_excel('C:/Users/izzac/Desktop/기업별 Sys_risk/결과/연체율 absorption ratio 3년.xlsx')"
   ]
  },
  {
   "cell_type": "code",
   "execution_count": 80,
   "metadata": {},
   "outputs": [],
   "source": [
    "# 2년\n",
    "ar_Data2 = eigen_Data2/20"
   ]
  },
  {
   "cell_type": "code",
   "execution_count": 81,
   "metadata": {},
   "outputs": [],
   "source": [
    "ar_Data2.to_excel('C:/Users/izzac/Desktop/기업별 Sys_risk/결과/연체율 absorption ratio 2년.xlsx')"
   ]
  }
 ],
 "metadata": {
  "kernelspec": {
   "display_name": "Python 3",
   "language": "python",
   "name": "python3"
  },
  "language_info": {
   "codemirror_mode": {
    "name": "ipython",
    "version": 3
   },
   "file_extension": ".py",
   "mimetype": "text/x-python",
   "name": "python",
   "nbconvert_exporter": "python",
   "pygments_lexer": "ipython3",
   "version": "3.8.5"
  }
 },
 "nbformat": 4,
 "nbformat_minor": 4
}
